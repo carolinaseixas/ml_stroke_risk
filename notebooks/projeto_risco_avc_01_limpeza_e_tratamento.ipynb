{
  "cells": [
    {
      "cell_type": "markdown",
      "metadata": {
        "id": "f7yuE7c160f-"
      },
      "source": [
        "# Projeto: predição de risco de acidente vascular cerebral (AVC)\n",
        "\n",
        "O acidente vascular cerebral (AVC) é uma condição médica grave que ocorre quando há interrupção ou redução do fluxo sanguíneo para uma parte do cérebro, resultando em danos às células cerebrais. Representa uma das principais causas de morte no mundo e pode ter consequências graves, tanto físicas quanto cognitivas. Diante de sua alta incidência e impacto, a previsão do risco de desenvolvimento de AVC torna-se essencial para a adoção de medidas preventivas eficazes. Identificar precocemente indivíduos em maior risco permite intervenções clínicas e mudanças no estilo de vida que podem reduzir a ocorrência de novos casos e melhorar a qualidade de vida da população.\n",
        "\n",
        "O conjunto de dados utilizado neste projeto foi construído com base em literatura médica, consultas a especialistas e modelagem estatística. As distribuições e relações de características foram inspiradas em observações clínicas do mundo real, garantindo validade médica. Nele há 70.000 registros e 18 características relacionadas a fatores de risco para desfecho de acidente vascular cerebral.\n",
        "\n",
        "Fonte dos dados: [Kaggle](https://www.kaggle.com/datasets/mahatiratusher/stroke-risk-prediction-dataset)"
      ]
    },
    {
      "cell_type": "markdown",
      "metadata": {
        "id": "E-BBHKl862bo"
      },
      "source": [
        "## Dicionário de dados\n",
        "\n",
        "\n",
        "`Chest Pain`: dor no peito -> 0 = Não, 1 = Sim;\n",
        "\n",
        "`Shortness of Breath`: dificuldade para respirar -> 0 = Não, 1 = Sim;\n",
        "\n",
        "`Irregular Heartbeat`: batimento cardíaco irregular -> 0 = Não, 1 = Sim;\n",
        "\n",
        "`Fatigue & Weakness`: fadiga persistente e fraqueza muscular -> 0 = Não, 1 = Sim;\n",
        "\n",
        "`Dizziness`: tonturas frequentes -> 0 = Não, 1 = Sim;\n",
        "\n",
        "`Swelling (Edema)`: inchaço nas extremidades devido à retenção de líquidos -> 0 = Não, 1 = Sim;\n",
        "\n",
        "`Pain in Neck/Jaw/Shoulder/Back`: dor no pescoço, mandíbula, ombro e costas -> 0 = Não, 1 = Sim;\n",
        "\n",
        "`Excessive Sweating`: suor excessivo -> 0 = Não, 1 = Sim;\n",
        "\n",
        "`Persistent Cough`: tosse crônica -> 0 = Não, 1 = Sim;\n",
        "\n",
        "`Nausea/Vomiting`: náuseas ou vômitos frequentes -> 0 = Não, 1 = Sim;\n",
        "\n",
        "`High Blood Pressure`: pressão alta -> 0 = Não, 1 = Sim;\n",
        "\n",
        "`Chest Discomfort (Activity)`: desconforto no peito durante atividade física -> 0 = Não, 1 = Sim;\n",
        "\n",
        "`Cold Hands/Feet`: frequentemente está com extremidades (mãos e pés) frias -> 0 = Não, 1 = Sim;\n",
        "\n",
        "`Snoring/Sleep Apnea`: apneia do sono -> 0 = Não, 1 = Sim;\n",
        "\n",
        "`Anxiety/Feeling of Doom`: ansiedade frequente ou sensação de desgraça iminente -> 0 = Não, 1 = Sim;\n",
        "\n",
        "`Stroke Risk (%)`: risco percentual estimado de ter um acidente vascular cerebral -> valor contínuo de porcentagem (0-100%);\n",
        "\n",
        "`At Risk (Binary)`: classificada como risco de acidente vascular cerebral -> 0 = Não, 1 = Sim;\n",
        "\n",
        "`Age`: idade do indivíduo -> valor contínuo;"
      ]
    },
    {
      "cell_type": "markdown",
      "metadata": {
        "id": "aC6yANGH65S9"
      },
      "source": [
        "## Importações e ajustes iniciais"
      ]
    },
    {
      "cell_type": "code",
      "execution_count": 1,
      "metadata": {
        "id": "Vl4pzpLg6uT0"
      },
      "outputs": [],
      "source": [
        "# Frameworks\n",
        "import pandas as pd\n",
        "\n",
        "# Configurações\n",
        "from src.config import DADOS_ORIGINAIS\n",
        "from src.config import DADOS_LIMPOS\n",
        "\n",
        "# Avisos\n",
        "import warnings"
      ]
    },
    {
      "cell_type": "code",
      "execution_count": 2,
      "metadata": {
        "id": "U4L0XM9KPSHx"
      },
      "outputs": [],
      "source": [
        "# Ajustes\n",
        "warnings.filterwarnings(\"ignore\")\n",
        "pd.options.display.float_format = \"{:,.2f}\".format"
      ]
    },
    {
      "cell_type": "markdown",
      "metadata": {
        "id": "DD2PWDy9Purt"
      },
      "source": [
        "## Limpeza e tratamento"
      ]
    },
    {
      "cell_type": "markdown",
      "metadata": {
        "id": "3N_kET2tPyuv"
      },
      "source": [
        "### Verificação inicial dos dados"
      ]
    },
    {
      "cell_type": "code",
      "execution_count": 3,
      "metadata": {
        "id": "qQXVRkp9Pw9n"
      },
      "outputs": [],
      "source": [
        "df = pd.read_csv(DADOS_ORIGINAIS)"
      ]
    },
    {
      "cell_type": "code",
      "execution_count": 4,
      "metadata": {
        "colab": {
          "base_uri": "https://localhost:8080/",
          "height": 261
        },
        "id": "NC61tcSPQpWl",
        "outputId": "0550f0f4-4b41-4c65-c11c-2317d016002d"
      },
      "outputs": [
        {
          "data": {
            "application/vnd.google.colaboratory.intrinsic+json": {
              "summary": "{\n  \"name\": \"df\",\n  \"rows\": 70000,\n  \"fields\": [\n    {\n      \"column\": \"Chest Pain\",\n      \"properties\": {\n        \"dtype\": \"number\",\n        \"std\": 0,\n        \"min\": 0,\n        \"max\": 1,\n        \"num_unique_values\": 2,\n        \"samples\": [\n          1,\n          0\n        ],\n        \"semantic_type\": \"\",\n        \"description\": \"\"\n      }\n    },\n    {\n      \"column\": \"Shortness of Breath\",\n      \"properties\": {\n        \"dtype\": \"number\",\n        \"std\": 0,\n        \"min\": 0,\n        \"max\": 1,\n        \"num_unique_values\": 2,\n        \"samples\": [\n          0,\n          1\n        ],\n        \"semantic_type\": \"\",\n        \"description\": \"\"\n      }\n    },\n    {\n      \"column\": \"Irregular Heartbeat\",\n      \"properties\": {\n        \"dtype\": \"number\",\n        \"std\": 0,\n        \"min\": 0,\n        \"max\": 1,\n        \"num_unique_values\": 2,\n        \"samples\": [\n          0,\n          1\n        ],\n        \"semantic_type\": \"\",\n        \"description\": \"\"\n      }\n    },\n    {\n      \"column\": \"Fatigue & Weakness\",\n      \"properties\": {\n        \"dtype\": \"number\",\n        \"std\": 0,\n        \"min\": 0,\n        \"max\": 1,\n        \"num_unique_values\": 2,\n        \"samples\": [\n          0,\n          1\n        ],\n        \"semantic_type\": \"\",\n        \"description\": \"\"\n      }\n    },\n    {\n      \"column\": \"Dizziness\",\n      \"properties\": {\n        \"dtype\": \"number\",\n        \"std\": 0,\n        \"min\": 0,\n        \"max\": 1,\n        \"num_unique_values\": 2,\n        \"samples\": [\n          1,\n          0\n        ],\n        \"semantic_type\": \"\",\n        \"description\": \"\"\n      }\n    },\n    {\n      \"column\": \"Swelling (Edema)\",\n      \"properties\": {\n        \"dtype\": \"number\",\n        \"std\": 0,\n        \"min\": 0,\n        \"max\": 1,\n        \"num_unique_values\": 2,\n        \"samples\": [\n          1,\n          0\n        ],\n        \"semantic_type\": \"\",\n        \"description\": \"\"\n      }\n    },\n    {\n      \"column\": \"Pain in Neck/Jaw/Shoulder/Back\",\n      \"properties\": {\n        \"dtype\": \"number\",\n        \"std\": 0,\n        \"min\": 0,\n        \"max\": 1,\n        \"num_unique_values\": 2,\n        \"samples\": [\n          1,\n          0\n        ],\n        \"semantic_type\": \"\",\n        \"description\": \"\"\n      }\n    },\n    {\n      \"column\": \"Excessive Sweating\",\n      \"properties\": {\n        \"dtype\": \"number\",\n        \"std\": 0,\n        \"min\": 0,\n        \"max\": 1,\n        \"num_unique_values\": 2,\n        \"samples\": [\n          0,\n          1\n        ],\n        \"semantic_type\": \"\",\n        \"description\": \"\"\n      }\n    },\n    {\n      \"column\": \"Persistent Cough\",\n      \"properties\": {\n        \"dtype\": \"number\",\n        \"std\": 0,\n        \"min\": 0,\n        \"max\": 1,\n        \"num_unique_values\": 2,\n        \"samples\": [\n          0,\n          1\n        ],\n        \"semantic_type\": \"\",\n        \"description\": \"\"\n      }\n    },\n    {\n      \"column\": \"Nausea/Vomiting\",\n      \"properties\": {\n        \"dtype\": \"number\",\n        \"std\": 0,\n        \"min\": 0,\n        \"max\": 1,\n        \"num_unique_values\": 2,\n        \"samples\": [\n          0,\n          1\n        ],\n        \"semantic_type\": \"\",\n        \"description\": \"\"\n      }\n    },\n    {\n      \"column\": \"High Blood Pressure\",\n      \"properties\": {\n        \"dtype\": \"number\",\n        \"std\": 0,\n        \"min\": 0,\n        \"max\": 1,\n        \"num_unique_values\": 2,\n        \"samples\": [\n          1,\n          0\n        ],\n        \"semantic_type\": \"\",\n        \"description\": \"\"\n      }\n    },\n    {\n      \"column\": \"Chest Discomfort (Activity)\",\n      \"properties\": {\n        \"dtype\": \"number\",\n        \"std\": 0,\n        \"min\": 0,\n        \"max\": 1,\n        \"num_unique_values\": 2,\n        \"samples\": [\n          0,\n          1\n        ],\n        \"semantic_type\": \"\",\n        \"description\": \"\"\n      }\n    },\n    {\n      \"column\": \"Cold Hands/Feet\",\n      \"properties\": {\n        \"dtype\": \"number\",\n        \"std\": 0,\n        \"min\": 0,\n        \"max\": 1,\n        \"num_unique_values\": 2,\n        \"samples\": [\n          0,\n          1\n        ],\n        \"semantic_type\": \"\",\n        \"description\": \"\"\n      }\n    },\n    {\n      \"column\": \"Snoring/Sleep Apnea\",\n      \"properties\": {\n        \"dtype\": \"number\",\n        \"std\": 0,\n        \"min\": 0,\n        \"max\": 1,\n        \"num_unique_values\": 2,\n        \"samples\": [\n          1,\n          0\n        ],\n        \"semantic_type\": \"\",\n        \"description\": \"\"\n      }\n    },\n    {\n      \"column\": \"Anxiety/Feeling of Doom\",\n      \"properties\": {\n        \"dtype\": \"number\",\n        \"std\": 0,\n        \"min\": 0,\n        \"max\": 1,\n        \"num_unique_values\": 2,\n        \"samples\": [\n          1,\n          0\n        ],\n        \"semantic_type\": \"\",\n        \"description\": \"\"\n      }\n    },\n    {\n      \"column\": \"Age\",\n      \"properties\": {\n        \"dtype\": \"number\",\n        \"std\": 21,\n        \"min\": 18,\n        \"max\": 90,\n        \"num_unique_values\": 73,\n        \"samples\": [\n          61,\n          33\n        ],\n        \"semantic_type\": \"\",\n        \"description\": \"\"\n      }\n    },\n    {\n      \"column\": \"Stroke Risk (%)\",\n      \"properties\": {\n        \"dtype\": \"number\",\n        \"std\": 14.300898438329657,\n        \"min\": 5.0,\n        \"max\": 100.0,\n        \"num_unique_values\": 183,\n        \"samples\": [\n          58.5,\n          46.5\n        ],\n        \"semantic_type\": \"\",\n        \"description\": \"\"\n      }\n    },\n    {\n      \"column\": \"At Risk (Binary)\",\n      \"properties\": {\n        \"dtype\": \"number\",\n        \"std\": 0,\n        \"min\": 0,\n        \"max\": 1,\n        \"num_unique_values\": 2,\n        \"samples\": [\n          0,\n          1\n        ],\n        \"semantic_type\": \"\",\n        \"description\": \"\"\n      }\n    }\n  ]\n}",
              "type": "dataframe",
              "variable_name": "df"
            },
            "text/html": [
              "\n",
              "  <div id=\"df-63a2d327-2331-4138-a522-b23d0880b79d\" class=\"colab-df-container\">\n",
              "    <div>\n",
              "<style scoped>\n",
              "    .dataframe tbody tr th:only-of-type {\n",
              "        vertical-align: middle;\n",
              "    }\n",
              "\n",
              "    .dataframe tbody tr th {\n",
              "        vertical-align: top;\n",
              "    }\n",
              "\n",
              "    .dataframe thead th {\n",
              "        text-align: right;\n",
              "    }\n",
              "</style>\n",
              "<table border=\"1\" class=\"dataframe\">\n",
              "  <thead>\n",
              "    <tr style=\"text-align: right;\">\n",
              "      <th></th>\n",
              "      <th>Chest Pain</th>\n",
              "      <th>Shortness of Breath</th>\n",
              "      <th>Irregular Heartbeat</th>\n",
              "      <th>Fatigue &amp; Weakness</th>\n",
              "      <th>Dizziness</th>\n",
              "      <th>Swelling (Edema)</th>\n",
              "      <th>Pain in Neck/Jaw/Shoulder/Back</th>\n",
              "      <th>Excessive Sweating</th>\n",
              "      <th>Persistent Cough</th>\n",
              "      <th>Nausea/Vomiting</th>\n",
              "      <th>High Blood Pressure</th>\n",
              "      <th>Chest Discomfort (Activity)</th>\n",
              "      <th>Cold Hands/Feet</th>\n",
              "      <th>Snoring/Sleep Apnea</th>\n",
              "      <th>Anxiety/Feeling of Doom</th>\n",
              "      <th>Age</th>\n",
              "      <th>Stroke Risk (%)</th>\n",
              "      <th>At Risk (Binary)</th>\n",
              "    </tr>\n",
              "  </thead>\n",
              "  <tbody>\n",
              "    <tr>\n",
              "      <th>0</th>\n",
              "      <td>0</td>\n",
              "      <td>1</td>\n",
              "      <td>1</td>\n",
              "      <td>1</td>\n",
              "      <td>0</td>\n",
              "      <td>0</td>\n",
              "      <td>0</td>\n",
              "      <td>1</td>\n",
              "      <td>1</td>\n",
              "      <td>1</td>\n",
              "      <td>0</td>\n",
              "      <td>1</td>\n",
              "      <td>1</td>\n",
              "      <td>0</td>\n",
              "      <td>0</td>\n",
              "      <td>54</td>\n",
              "      <td>58.00</td>\n",
              "      <td>1</td>\n",
              "    </tr>\n",
              "    <tr>\n",
              "      <th>1</th>\n",
              "      <td>0</td>\n",
              "      <td>0</td>\n",
              "      <td>1</td>\n",
              "      <td>0</td>\n",
              "      <td>0</td>\n",
              "      <td>1</td>\n",
              "      <td>0</td>\n",
              "      <td>0</td>\n",
              "      <td>0</td>\n",
              "      <td>0</td>\n",
              "      <td>1</td>\n",
              "      <td>0</td>\n",
              "      <td>1</td>\n",
              "      <td>1</td>\n",
              "      <td>0</td>\n",
              "      <td>49</td>\n",
              "      <td>40.50</td>\n",
              "      <td>0</td>\n",
              "    </tr>\n",
              "    <tr>\n",
              "      <th>2</th>\n",
              "      <td>1</td>\n",
              "      <td>0</td>\n",
              "      <td>0</td>\n",
              "      <td>1</td>\n",
              "      <td>1</td>\n",
              "      <td>1</td>\n",
              "      <td>0</td>\n",
              "      <td>0</td>\n",
              "      <td>1</td>\n",
              "      <td>0</td>\n",
              "      <td>0</td>\n",
              "      <td>0</td>\n",
              "      <td>0</td>\n",
              "      <td>1</td>\n",
              "      <td>0</td>\n",
              "      <td>62</td>\n",
              "      <td>52.00</td>\n",
              "      <td>1</td>\n",
              "    </tr>\n",
              "    <tr>\n",
              "      <th>3</th>\n",
              "      <td>1</td>\n",
              "      <td>0</td>\n",
              "      <td>1</td>\n",
              "      <td>1</td>\n",
              "      <td>0</td>\n",
              "      <td>1</td>\n",
              "      <td>1</td>\n",
              "      <td>1</td>\n",
              "      <td>1</td>\n",
              "      <td>1</td>\n",
              "      <td>1</td>\n",
              "      <td>0</td>\n",
              "      <td>0</td>\n",
              "      <td>0</td>\n",
              "      <td>0</td>\n",
              "      <td>48</td>\n",
              "      <td>60.00</td>\n",
              "      <td>1</td>\n",
              "    </tr>\n",
              "    <tr>\n",
              "      <th>4</th>\n",
              "      <td>0</td>\n",
              "      <td>0</td>\n",
              "      <td>1</td>\n",
              "      <td>0</td>\n",
              "      <td>0</td>\n",
              "      <td>1</td>\n",
              "      <td>0</td>\n",
              "      <td>1</td>\n",
              "      <td>0</td>\n",
              "      <td>1</td>\n",
              "      <td>1</td>\n",
              "      <td>0</td>\n",
              "      <td>0</td>\n",
              "      <td>1</td>\n",
              "      <td>1</td>\n",
              "      <td>61</td>\n",
              "      <td>56.50</td>\n",
              "      <td>1</td>\n",
              "    </tr>\n",
              "  </tbody>\n",
              "</table>\n",
              "</div>\n",
              "    <div class=\"colab-df-buttons\">\n",
              "\n",
              "  <div class=\"colab-df-container\">\n",
              "    <button class=\"colab-df-convert\" onclick=\"convertToInteractive('df-63a2d327-2331-4138-a522-b23d0880b79d')\"\n",
              "            title=\"Convert this dataframe to an interactive table.\"\n",
              "            style=\"display:none;\">\n",
              "\n",
              "  <svg xmlns=\"http://www.w3.org/2000/svg\" height=\"24px\" viewBox=\"0 -960 960 960\">\n",
              "    <path d=\"M120-120v-720h720v720H120Zm60-500h600v-160H180v160Zm220 220h160v-160H400v160Zm0 220h160v-160H400v160ZM180-400h160v-160H180v160Zm440 0h160v-160H620v160ZM180-180h160v-160H180v160Zm440 0h160v-160H620v160Z\"/>\n",
              "  </svg>\n",
              "    </button>\n",
              "\n",
              "  <style>\n",
              "    .colab-df-container {\n",
              "      display:flex;\n",
              "      gap: 12px;\n",
              "    }\n",
              "\n",
              "    .colab-df-convert {\n",
              "      background-color: #E8F0FE;\n",
              "      border: none;\n",
              "      border-radius: 50%;\n",
              "      cursor: pointer;\n",
              "      display: none;\n",
              "      fill: #1967D2;\n",
              "      height: 32px;\n",
              "      padding: 0 0 0 0;\n",
              "      width: 32px;\n",
              "    }\n",
              "\n",
              "    .colab-df-convert:hover {\n",
              "      background-color: #E2EBFA;\n",
              "      box-shadow: 0px 1px 2px rgba(60, 64, 67, 0.3), 0px 1px 3px 1px rgba(60, 64, 67, 0.15);\n",
              "      fill: #174EA6;\n",
              "    }\n",
              "\n",
              "    .colab-df-buttons div {\n",
              "      margin-bottom: 4px;\n",
              "    }\n",
              "\n",
              "    [theme=dark] .colab-df-convert {\n",
              "      background-color: #3B4455;\n",
              "      fill: #D2E3FC;\n",
              "    }\n",
              "\n",
              "    [theme=dark] .colab-df-convert:hover {\n",
              "      background-color: #434B5C;\n",
              "      box-shadow: 0px 1px 3px 1px rgba(0, 0, 0, 0.15);\n",
              "      filter: drop-shadow(0px 1px 2px rgba(0, 0, 0, 0.3));\n",
              "      fill: #FFFFFF;\n",
              "    }\n",
              "  </style>\n",
              "\n",
              "    <script>\n",
              "      const buttonEl =\n",
              "        document.querySelector('#df-63a2d327-2331-4138-a522-b23d0880b79d button.colab-df-convert');\n",
              "      buttonEl.style.display =\n",
              "        google.colab.kernel.accessAllowed ? 'block' : 'none';\n",
              "\n",
              "      async function convertToInteractive(key) {\n",
              "        const element = document.querySelector('#df-63a2d327-2331-4138-a522-b23d0880b79d');\n",
              "        const dataTable =\n",
              "          await google.colab.kernel.invokeFunction('convertToInteractive',\n",
              "                                                    [key], {});\n",
              "        if (!dataTable) return;\n",
              "\n",
              "        const docLinkHtml = 'Like what you see? Visit the ' +\n",
              "          '<a target=\"_blank\" href=https://colab.research.google.com/notebooks/data_table.ipynb>data table notebook</a>'\n",
              "          + ' to learn more about interactive tables.';\n",
              "        element.innerHTML = '';\n",
              "        dataTable['output_type'] = 'display_data';\n",
              "        await google.colab.output.renderOutput(dataTable, element);\n",
              "        const docLink = document.createElement('div');\n",
              "        docLink.innerHTML = docLinkHtml;\n",
              "        element.appendChild(docLink);\n",
              "      }\n",
              "    </script>\n",
              "  </div>\n",
              "\n",
              "\n",
              "    <div id=\"df-38679322-be62-4f72-923c-033e2d862965\">\n",
              "      <button class=\"colab-df-quickchart\" onclick=\"quickchart('df-38679322-be62-4f72-923c-033e2d862965')\"\n",
              "                title=\"Suggest charts\"\n",
              "                style=\"display:none;\">\n",
              "\n",
              "<svg xmlns=\"http://www.w3.org/2000/svg\" height=\"24px\"viewBox=\"0 0 24 24\"\n",
              "     width=\"24px\">\n",
              "    <g>\n",
              "        <path d=\"M19 3H5c-1.1 0-2 .9-2 2v14c0 1.1.9 2 2 2h14c1.1 0 2-.9 2-2V5c0-1.1-.9-2-2-2zM9 17H7v-7h2v7zm4 0h-2V7h2v10zm4 0h-2v-4h2v4z\"/>\n",
              "    </g>\n",
              "</svg>\n",
              "      </button>\n",
              "\n",
              "<style>\n",
              "  .colab-df-quickchart {\n",
              "      --bg-color: #E8F0FE;\n",
              "      --fill-color: #1967D2;\n",
              "      --hover-bg-color: #E2EBFA;\n",
              "      --hover-fill-color: #174EA6;\n",
              "      --disabled-fill-color: #AAA;\n",
              "      --disabled-bg-color: #DDD;\n",
              "  }\n",
              "\n",
              "  [theme=dark] .colab-df-quickchart {\n",
              "      --bg-color: #3B4455;\n",
              "      --fill-color: #D2E3FC;\n",
              "      --hover-bg-color: #434B5C;\n",
              "      --hover-fill-color: #FFFFFF;\n",
              "      --disabled-bg-color: #3B4455;\n",
              "      --disabled-fill-color: #666;\n",
              "  }\n",
              "\n",
              "  .colab-df-quickchart {\n",
              "    background-color: var(--bg-color);\n",
              "    border: none;\n",
              "    border-radius: 50%;\n",
              "    cursor: pointer;\n",
              "    display: none;\n",
              "    fill: var(--fill-color);\n",
              "    height: 32px;\n",
              "    padding: 0;\n",
              "    width: 32px;\n",
              "  }\n",
              "\n",
              "  .colab-df-quickchart:hover {\n",
              "    background-color: var(--hover-bg-color);\n",
              "    box-shadow: 0 1px 2px rgba(60, 64, 67, 0.3), 0 1px 3px 1px rgba(60, 64, 67, 0.15);\n",
              "    fill: var(--button-hover-fill-color);\n",
              "  }\n",
              "\n",
              "  .colab-df-quickchart-complete:disabled,\n",
              "  .colab-df-quickchart-complete:disabled:hover {\n",
              "    background-color: var(--disabled-bg-color);\n",
              "    fill: var(--disabled-fill-color);\n",
              "    box-shadow: none;\n",
              "  }\n",
              "\n",
              "  .colab-df-spinner {\n",
              "    border: 2px solid var(--fill-color);\n",
              "    border-color: transparent;\n",
              "    border-bottom-color: var(--fill-color);\n",
              "    animation:\n",
              "      spin 1s steps(1) infinite;\n",
              "  }\n",
              "\n",
              "  @keyframes spin {\n",
              "    0% {\n",
              "      border-color: transparent;\n",
              "      border-bottom-color: var(--fill-color);\n",
              "      border-left-color: var(--fill-color);\n",
              "    }\n",
              "    20% {\n",
              "      border-color: transparent;\n",
              "      border-left-color: var(--fill-color);\n",
              "      border-top-color: var(--fill-color);\n",
              "    }\n",
              "    30% {\n",
              "      border-color: transparent;\n",
              "      border-left-color: var(--fill-color);\n",
              "      border-top-color: var(--fill-color);\n",
              "      border-right-color: var(--fill-color);\n",
              "    }\n",
              "    40% {\n",
              "      border-color: transparent;\n",
              "      border-right-color: var(--fill-color);\n",
              "      border-top-color: var(--fill-color);\n",
              "    }\n",
              "    60% {\n",
              "      border-color: transparent;\n",
              "      border-right-color: var(--fill-color);\n",
              "    }\n",
              "    80% {\n",
              "      border-color: transparent;\n",
              "      border-right-color: var(--fill-color);\n",
              "      border-bottom-color: var(--fill-color);\n",
              "    }\n",
              "    90% {\n",
              "      border-color: transparent;\n",
              "      border-bottom-color: var(--fill-color);\n",
              "    }\n",
              "  }\n",
              "</style>\n",
              "\n",
              "      <script>\n",
              "        async function quickchart(key) {\n",
              "          const quickchartButtonEl =\n",
              "            document.querySelector('#' + key + ' button');\n",
              "          quickchartButtonEl.disabled = true;  // To prevent multiple clicks.\n",
              "          quickchartButtonEl.classList.add('colab-df-spinner');\n",
              "          try {\n",
              "            const charts = await google.colab.kernel.invokeFunction(\n",
              "                'suggestCharts', [key], {});\n",
              "          } catch (error) {\n",
              "            console.error('Error during call to suggestCharts:', error);\n",
              "          }\n",
              "          quickchartButtonEl.classList.remove('colab-df-spinner');\n",
              "          quickchartButtonEl.classList.add('colab-df-quickchart-complete');\n",
              "        }\n",
              "        (() => {\n",
              "          let quickchartButtonEl =\n",
              "            document.querySelector('#df-38679322-be62-4f72-923c-033e2d862965 button');\n",
              "          quickchartButtonEl.style.display =\n",
              "            google.colab.kernel.accessAllowed ? 'block' : 'none';\n",
              "        })();\n",
              "      </script>\n",
              "    </div>\n",
              "\n",
              "    </div>\n",
              "  </div>\n"
            ],
            "text/plain": [
              "   Chest Pain  Shortness of Breath  Irregular Heartbeat  Fatigue & Weakness  \\\n",
              "0           0                    1                    1                   1   \n",
              "1           0                    0                    1                   0   \n",
              "2           1                    0                    0                   1   \n",
              "3           1                    0                    1                   1   \n",
              "4           0                    0                    1                   0   \n",
              "\n",
              "   Dizziness  Swelling (Edema)  Pain in Neck/Jaw/Shoulder/Back  \\\n",
              "0          0                 0                               0   \n",
              "1          0                 1                               0   \n",
              "2          1                 1                               0   \n",
              "3          0                 1                               1   \n",
              "4          0                 1                               0   \n",
              "\n",
              "   Excessive Sweating  Persistent Cough  Nausea/Vomiting  High Blood Pressure  \\\n",
              "0                   1                 1                1                    0   \n",
              "1                   0                 0                0                    1   \n",
              "2                   0                 1                0                    0   \n",
              "3                   1                 1                1                    1   \n",
              "4                   1                 0                1                    1   \n",
              "\n",
              "   Chest Discomfort (Activity)  Cold Hands/Feet  Snoring/Sleep Apnea  \\\n",
              "0                            1                1                    0   \n",
              "1                            0                1                    1   \n",
              "2                            0                0                    1   \n",
              "3                            0                0                    0   \n",
              "4                            0                0                    1   \n",
              "\n",
              "   Anxiety/Feeling of Doom  Age  Stroke Risk (%)  At Risk (Binary)  \n",
              "0                        0   54            58.00                 1  \n",
              "1                        0   49            40.50                 0  \n",
              "2                        0   62            52.00                 1  \n",
              "3                        0   48            60.00                 1  \n",
              "4                        1   61            56.50                 1  "
            ]
          },
          "execution_count": 4,
          "metadata": {},
          "output_type": "execute_result"
        }
      ],
      "source": [
        "df.head()"
      ]
    },
    {
      "cell_type": "code",
      "execution_count": 5,
      "metadata": {
        "colab": {
          "base_uri": "https://localhost:8080/",
          "height": 261
        },
        "id": "ToX5bf_qQrF8",
        "outputId": "36e8be97-dd20-4355-ac99-bc8f48023e92"
      },
      "outputs": [
        {
          "data": {
            "application/vnd.google.colaboratory.intrinsic+json": {
              "summary": "{\n  \"name\": \"df\",\n  \"rows\": 5,\n  \"fields\": [\n    {\n      \"column\": \"Chest Pain\",\n      \"properties\": {\n        \"dtype\": \"number\",\n        \"std\": 0,\n        \"min\": 0,\n        \"max\": 1,\n        \"num_unique_values\": 2,\n        \"samples\": [\n          0,\n          1\n        ],\n        \"semantic_type\": \"\",\n        \"description\": \"\"\n      }\n    },\n    {\n      \"column\": \"Shortness of Breath\",\n      \"properties\": {\n        \"dtype\": \"number\",\n        \"std\": 0,\n        \"min\": 0,\n        \"max\": 1,\n        \"num_unique_values\": 2,\n        \"samples\": [\n          1,\n          0\n        ],\n        \"semantic_type\": \"\",\n        \"description\": \"\"\n      }\n    },\n    {\n      \"column\": \"Irregular Heartbeat\",\n      \"properties\": {\n        \"dtype\": \"number\",\n        \"std\": 0,\n        \"min\": 0,\n        \"max\": 1,\n        \"num_unique_values\": 2,\n        \"samples\": [\n          1,\n          0\n        ],\n        \"semantic_type\": \"\",\n        \"description\": \"\"\n      }\n    },\n    {\n      \"column\": \"Fatigue & Weakness\",\n      \"properties\": {\n        \"dtype\": \"number\",\n        \"std\": 0,\n        \"min\": 0,\n        \"max\": 1,\n        \"num_unique_values\": 2,\n        \"samples\": [\n          1,\n          0\n        ],\n        \"semantic_type\": \"\",\n        \"description\": \"\"\n      }\n    },\n    {\n      \"column\": \"Dizziness\",\n      \"properties\": {\n        \"dtype\": \"number\",\n        \"std\": 0,\n        \"min\": 0,\n        \"max\": 1,\n        \"num_unique_values\": 2,\n        \"samples\": [\n          1,\n          0\n        ],\n        \"semantic_type\": \"\",\n        \"description\": \"\"\n      }\n    },\n    {\n      \"column\": \"Swelling (Edema)\",\n      \"properties\": {\n        \"dtype\": \"number\",\n        \"std\": 0,\n        \"min\": 0,\n        \"max\": 1,\n        \"num_unique_values\": 2,\n        \"samples\": [\n          1,\n          0\n        ],\n        \"semantic_type\": \"\",\n        \"description\": \"\"\n      }\n    },\n    {\n      \"column\": \"Pain in Neck/Jaw/Shoulder/Back\",\n      \"properties\": {\n        \"dtype\": \"number\",\n        \"std\": 0,\n        \"min\": 0,\n        \"max\": 0,\n        \"num_unique_values\": 1,\n        \"samples\": [\n          0\n        ],\n        \"semantic_type\": \"\",\n        \"description\": \"\"\n      }\n    },\n    {\n      \"column\": \"Excessive Sweating\",\n      \"properties\": {\n        \"dtype\": \"number\",\n        \"std\": 0,\n        \"min\": 0,\n        \"max\": 1,\n        \"num_unique_values\": 2,\n        \"samples\": [\n          0\n        ],\n        \"semantic_type\": \"\",\n        \"description\": \"\"\n      }\n    },\n    {\n      \"column\": \"Persistent Cough\",\n      \"properties\": {\n        \"dtype\": \"number\",\n        \"std\": 0,\n        \"min\": 0,\n        \"max\": 1,\n        \"num_unique_values\": 2,\n        \"samples\": [\n          1\n        ],\n        \"semantic_type\": \"\",\n        \"description\": \"\"\n      }\n    },\n    {\n      \"column\": \"Nausea/Vomiting\",\n      \"properties\": {\n        \"dtype\": \"number\",\n        \"std\": 0,\n        \"min\": 0,\n        \"max\": 1,\n        \"num_unique_values\": 2,\n        \"samples\": [\n          0\n        ],\n        \"semantic_type\": \"\",\n        \"description\": \"\"\n      }\n    },\n    {\n      \"column\": \"High Blood Pressure\",\n      \"properties\": {\n        \"dtype\": \"number\",\n        \"std\": 0,\n        \"min\": 0,\n        \"max\": 1,\n        \"num_unique_values\": 2,\n        \"samples\": [\n          0\n        ],\n        \"semantic_type\": \"\",\n        \"description\": \"\"\n      }\n    },\n    {\n      \"column\": \"Chest Discomfort (Activity)\",\n      \"properties\": {\n        \"dtype\": \"number\",\n        \"std\": 0,\n        \"min\": 0,\n        \"max\": 1,\n        \"num_unique_values\": 2,\n        \"samples\": [\n          0\n        ],\n        \"semantic_type\": \"\",\n        \"description\": \"\"\n      }\n    },\n    {\n      \"column\": \"Cold Hands/Feet\",\n      \"properties\": {\n        \"dtype\": \"number\",\n        \"std\": 0,\n        \"min\": 0,\n        \"max\": 1,\n        \"num_unique_values\": 2,\n        \"samples\": [\n          1\n        ],\n        \"semantic_type\": \"\",\n        \"description\": \"\"\n      }\n    },\n    {\n      \"column\": \"Snoring/Sleep Apnea\",\n      \"properties\": {\n        \"dtype\": \"number\",\n        \"std\": 0,\n        \"min\": 0,\n        \"max\": 1,\n        \"num_unique_values\": 2,\n        \"samples\": [\n          1\n        ],\n        \"semantic_type\": \"\",\n        \"description\": \"\"\n      }\n    },\n    {\n      \"column\": \"Anxiety/Feeling of Doom\",\n      \"properties\": {\n        \"dtype\": \"number\",\n        \"std\": 0,\n        \"min\": 0,\n        \"max\": 1,\n        \"num_unique_values\": 2,\n        \"samples\": [\n          0\n        ],\n        \"semantic_type\": \"\",\n        \"description\": \"\"\n      }\n    },\n    {\n      \"column\": \"Age\",\n      \"properties\": {\n        \"dtype\": \"number\",\n        \"std\": 22,\n        \"min\": 18,\n        \"max\": 74,\n        \"num_unique_values\": 5,\n        \"samples\": [\n          24\n        ],\n        \"semantic_type\": \"\",\n        \"description\": \"\"\n      }\n    },\n    {\n      \"column\": \"Stroke Risk (%)\",\n      \"properties\": {\n        \"dtype\": \"number\",\n        \"std\": 13.233480267866046,\n        \"min\": 30.0,\n        \"max\": 63.0,\n        \"num_unique_values\": 5,\n        \"samples\": [\n          33.0\n        ],\n        \"semantic_type\": \"\",\n        \"description\": \"\"\n      }\n    },\n    {\n      \"column\": \"At Risk (Binary)\",\n      \"properties\": {\n        \"dtype\": \"number\",\n        \"std\": 0,\n        \"min\": 0,\n        \"max\": 1,\n        \"num_unique_values\": 2,\n        \"samples\": [\n          1\n        ],\n        \"semantic_type\": \"\",\n        \"description\": \"\"\n      }\n    }\n  ]\n}",
              "type": "dataframe"
            },
            "text/html": [
              "\n",
              "  <div id=\"df-95e6e6dd-fcbf-4e57-a7de-2520de3b214a\" class=\"colab-df-container\">\n",
              "    <div>\n",
              "<style scoped>\n",
              "    .dataframe tbody tr th:only-of-type {\n",
              "        vertical-align: middle;\n",
              "    }\n",
              "\n",
              "    .dataframe tbody tr th {\n",
              "        vertical-align: top;\n",
              "    }\n",
              "\n",
              "    .dataframe thead th {\n",
              "        text-align: right;\n",
              "    }\n",
              "</style>\n",
              "<table border=\"1\" class=\"dataframe\">\n",
              "  <thead>\n",
              "    <tr style=\"text-align: right;\">\n",
              "      <th></th>\n",
              "      <th>Chest Pain</th>\n",
              "      <th>Shortness of Breath</th>\n",
              "      <th>Irregular Heartbeat</th>\n",
              "      <th>Fatigue &amp; Weakness</th>\n",
              "      <th>Dizziness</th>\n",
              "      <th>Swelling (Edema)</th>\n",
              "      <th>Pain in Neck/Jaw/Shoulder/Back</th>\n",
              "      <th>Excessive Sweating</th>\n",
              "      <th>Persistent Cough</th>\n",
              "      <th>Nausea/Vomiting</th>\n",
              "      <th>High Blood Pressure</th>\n",
              "      <th>Chest Discomfort (Activity)</th>\n",
              "      <th>Cold Hands/Feet</th>\n",
              "      <th>Snoring/Sleep Apnea</th>\n",
              "      <th>Anxiety/Feeling of Doom</th>\n",
              "      <th>Age</th>\n",
              "      <th>Stroke Risk (%)</th>\n",
              "      <th>At Risk (Binary)</th>\n",
              "    </tr>\n",
              "  </thead>\n",
              "  <tbody>\n",
              "    <tr>\n",
              "      <th>69995</th>\n",
              "      <td>1</td>\n",
              "      <td>0</td>\n",
              "      <td>0</td>\n",
              "      <td>0</td>\n",
              "      <td>0</td>\n",
              "      <td>0</td>\n",
              "      <td>0</td>\n",
              "      <td>1</td>\n",
              "      <td>0</td>\n",
              "      <td>1</td>\n",
              "      <td>1</td>\n",
              "      <td>1</td>\n",
              "      <td>0</td>\n",
              "      <td>0</td>\n",
              "      <td>1</td>\n",
              "      <td>18</td>\n",
              "      <td>30.00</td>\n",
              "      <td>0</td>\n",
              "    </tr>\n",
              "    <tr>\n",
              "      <th>69996</th>\n",
              "      <td>0</td>\n",
              "      <td>0</td>\n",
              "      <td>0</td>\n",
              "      <td>1</td>\n",
              "      <td>0</td>\n",
              "      <td>1</td>\n",
              "      <td>0</td>\n",
              "      <td>1</td>\n",
              "      <td>0</td>\n",
              "      <td>0</td>\n",
              "      <td>0</td>\n",
              "      <td>1</td>\n",
              "      <td>1</td>\n",
              "      <td>1</td>\n",
              "      <td>0</td>\n",
              "      <td>24</td>\n",
              "      <td>33.00</td>\n",
              "      <td>0</td>\n",
              "    </tr>\n",
              "    <tr>\n",
              "      <th>69997</th>\n",
              "      <td>1</td>\n",
              "      <td>1</td>\n",
              "      <td>0</td>\n",
              "      <td>1</td>\n",
              "      <td>1</td>\n",
              "      <td>1</td>\n",
              "      <td>0</td>\n",
              "      <td>0</td>\n",
              "      <td>0</td>\n",
              "      <td>0</td>\n",
              "      <td>1</td>\n",
              "      <td>0</td>\n",
              "      <td>0</td>\n",
              "      <td>0</td>\n",
              "      <td>0</td>\n",
              "      <td>49</td>\n",
              "      <td>45.50</td>\n",
              "      <td>0</td>\n",
              "    </tr>\n",
              "    <tr>\n",
              "      <th>69998</th>\n",
              "      <td>0</td>\n",
              "      <td>1</td>\n",
              "      <td>1</td>\n",
              "      <td>1</td>\n",
              "      <td>1</td>\n",
              "      <td>0</td>\n",
              "      <td>0</td>\n",
              "      <td>0</td>\n",
              "      <td>0</td>\n",
              "      <td>0</td>\n",
              "      <td>0</td>\n",
              "      <td>1</td>\n",
              "      <td>1</td>\n",
              "      <td>1</td>\n",
              "      <td>0</td>\n",
              "      <td>45</td>\n",
              "      <td>48.50</td>\n",
              "      <td>0</td>\n",
              "    </tr>\n",
              "    <tr>\n",
              "      <th>69999</th>\n",
              "      <td>0</td>\n",
              "      <td>1</td>\n",
              "      <td>0</td>\n",
              "      <td>0</td>\n",
              "      <td>0</td>\n",
              "      <td>0</td>\n",
              "      <td>0</td>\n",
              "      <td>1</td>\n",
              "      <td>1</td>\n",
              "      <td>1</td>\n",
              "      <td>1</td>\n",
              "      <td>1</td>\n",
              "      <td>0</td>\n",
              "      <td>1</td>\n",
              "      <td>0</td>\n",
              "      <td>74</td>\n",
              "      <td>63.00</td>\n",
              "      <td>1</td>\n",
              "    </tr>\n",
              "  </tbody>\n",
              "</table>\n",
              "</div>\n",
              "    <div class=\"colab-df-buttons\">\n",
              "\n",
              "  <div class=\"colab-df-container\">\n",
              "    <button class=\"colab-df-convert\" onclick=\"convertToInteractive('df-95e6e6dd-fcbf-4e57-a7de-2520de3b214a')\"\n",
              "            title=\"Convert this dataframe to an interactive table.\"\n",
              "            style=\"display:none;\">\n",
              "\n",
              "  <svg xmlns=\"http://www.w3.org/2000/svg\" height=\"24px\" viewBox=\"0 -960 960 960\">\n",
              "    <path d=\"M120-120v-720h720v720H120Zm60-500h600v-160H180v160Zm220 220h160v-160H400v160Zm0 220h160v-160H400v160ZM180-400h160v-160H180v160Zm440 0h160v-160H620v160ZM180-180h160v-160H180v160Zm440 0h160v-160H620v160Z\"/>\n",
              "  </svg>\n",
              "    </button>\n",
              "\n",
              "  <style>\n",
              "    .colab-df-container {\n",
              "      display:flex;\n",
              "      gap: 12px;\n",
              "    }\n",
              "\n",
              "    .colab-df-convert {\n",
              "      background-color: #E8F0FE;\n",
              "      border: none;\n",
              "      border-radius: 50%;\n",
              "      cursor: pointer;\n",
              "      display: none;\n",
              "      fill: #1967D2;\n",
              "      height: 32px;\n",
              "      padding: 0 0 0 0;\n",
              "      width: 32px;\n",
              "    }\n",
              "\n",
              "    .colab-df-convert:hover {\n",
              "      background-color: #E2EBFA;\n",
              "      box-shadow: 0px 1px 2px rgba(60, 64, 67, 0.3), 0px 1px 3px 1px rgba(60, 64, 67, 0.15);\n",
              "      fill: #174EA6;\n",
              "    }\n",
              "\n",
              "    .colab-df-buttons div {\n",
              "      margin-bottom: 4px;\n",
              "    }\n",
              "\n",
              "    [theme=dark] .colab-df-convert {\n",
              "      background-color: #3B4455;\n",
              "      fill: #D2E3FC;\n",
              "    }\n",
              "\n",
              "    [theme=dark] .colab-df-convert:hover {\n",
              "      background-color: #434B5C;\n",
              "      box-shadow: 0px 1px 3px 1px rgba(0, 0, 0, 0.15);\n",
              "      filter: drop-shadow(0px 1px 2px rgba(0, 0, 0, 0.3));\n",
              "      fill: #FFFFFF;\n",
              "    }\n",
              "  </style>\n",
              "\n",
              "    <script>\n",
              "      const buttonEl =\n",
              "        document.querySelector('#df-95e6e6dd-fcbf-4e57-a7de-2520de3b214a button.colab-df-convert');\n",
              "      buttonEl.style.display =\n",
              "        google.colab.kernel.accessAllowed ? 'block' : 'none';\n",
              "\n",
              "      async function convertToInteractive(key) {\n",
              "        const element = document.querySelector('#df-95e6e6dd-fcbf-4e57-a7de-2520de3b214a');\n",
              "        const dataTable =\n",
              "          await google.colab.kernel.invokeFunction('convertToInteractive',\n",
              "                                                    [key], {});\n",
              "        if (!dataTable) return;\n",
              "\n",
              "        const docLinkHtml = 'Like what you see? Visit the ' +\n",
              "          '<a target=\"_blank\" href=https://colab.research.google.com/notebooks/data_table.ipynb>data table notebook</a>'\n",
              "          + ' to learn more about interactive tables.';\n",
              "        element.innerHTML = '';\n",
              "        dataTable['output_type'] = 'display_data';\n",
              "        await google.colab.output.renderOutput(dataTable, element);\n",
              "        const docLink = document.createElement('div');\n",
              "        docLink.innerHTML = docLinkHtml;\n",
              "        element.appendChild(docLink);\n",
              "      }\n",
              "    </script>\n",
              "  </div>\n",
              "\n",
              "\n",
              "    <div id=\"df-1f883373-5fd6-49cf-83e9-02d1fc7502b9\">\n",
              "      <button class=\"colab-df-quickchart\" onclick=\"quickchart('df-1f883373-5fd6-49cf-83e9-02d1fc7502b9')\"\n",
              "                title=\"Suggest charts\"\n",
              "                style=\"display:none;\">\n",
              "\n",
              "<svg xmlns=\"http://www.w3.org/2000/svg\" height=\"24px\"viewBox=\"0 0 24 24\"\n",
              "     width=\"24px\">\n",
              "    <g>\n",
              "        <path d=\"M19 3H5c-1.1 0-2 .9-2 2v14c0 1.1.9 2 2 2h14c1.1 0 2-.9 2-2V5c0-1.1-.9-2-2-2zM9 17H7v-7h2v7zm4 0h-2V7h2v10zm4 0h-2v-4h2v4z\"/>\n",
              "    </g>\n",
              "</svg>\n",
              "      </button>\n",
              "\n",
              "<style>\n",
              "  .colab-df-quickchart {\n",
              "      --bg-color: #E8F0FE;\n",
              "      --fill-color: #1967D2;\n",
              "      --hover-bg-color: #E2EBFA;\n",
              "      --hover-fill-color: #174EA6;\n",
              "      --disabled-fill-color: #AAA;\n",
              "      --disabled-bg-color: #DDD;\n",
              "  }\n",
              "\n",
              "  [theme=dark] .colab-df-quickchart {\n",
              "      --bg-color: #3B4455;\n",
              "      --fill-color: #D2E3FC;\n",
              "      --hover-bg-color: #434B5C;\n",
              "      --hover-fill-color: #FFFFFF;\n",
              "      --disabled-bg-color: #3B4455;\n",
              "      --disabled-fill-color: #666;\n",
              "  }\n",
              "\n",
              "  .colab-df-quickchart {\n",
              "    background-color: var(--bg-color);\n",
              "    border: none;\n",
              "    border-radius: 50%;\n",
              "    cursor: pointer;\n",
              "    display: none;\n",
              "    fill: var(--fill-color);\n",
              "    height: 32px;\n",
              "    padding: 0;\n",
              "    width: 32px;\n",
              "  }\n",
              "\n",
              "  .colab-df-quickchart:hover {\n",
              "    background-color: var(--hover-bg-color);\n",
              "    box-shadow: 0 1px 2px rgba(60, 64, 67, 0.3), 0 1px 3px 1px rgba(60, 64, 67, 0.15);\n",
              "    fill: var(--button-hover-fill-color);\n",
              "  }\n",
              "\n",
              "  .colab-df-quickchart-complete:disabled,\n",
              "  .colab-df-quickchart-complete:disabled:hover {\n",
              "    background-color: var(--disabled-bg-color);\n",
              "    fill: var(--disabled-fill-color);\n",
              "    box-shadow: none;\n",
              "  }\n",
              "\n",
              "  .colab-df-spinner {\n",
              "    border: 2px solid var(--fill-color);\n",
              "    border-color: transparent;\n",
              "    border-bottom-color: var(--fill-color);\n",
              "    animation:\n",
              "      spin 1s steps(1) infinite;\n",
              "  }\n",
              "\n",
              "  @keyframes spin {\n",
              "    0% {\n",
              "      border-color: transparent;\n",
              "      border-bottom-color: var(--fill-color);\n",
              "      border-left-color: var(--fill-color);\n",
              "    }\n",
              "    20% {\n",
              "      border-color: transparent;\n",
              "      border-left-color: var(--fill-color);\n",
              "      border-top-color: var(--fill-color);\n",
              "    }\n",
              "    30% {\n",
              "      border-color: transparent;\n",
              "      border-left-color: var(--fill-color);\n",
              "      border-top-color: var(--fill-color);\n",
              "      border-right-color: var(--fill-color);\n",
              "    }\n",
              "    40% {\n",
              "      border-color: transparent;\n",
              "      border-right-color: var(--fill-color);\n",
              "      border-top-color: var(--fill-color);\n",
              "    }\n",
              "    60% {\n",
              "      border-color: transparent;\n",
              "      border-right-color: var(--fill-color);\n",
              "    }\n",
              "    80% {\n",
              "      border-color: transparent;\n",
              "      border-right-color: var(--fill-color);\n",
              "      border-bottom-color: var(--fill-color);\n",
              "    }\n",
              "    90% {\n",
              "      border-color: transparent;\n",
              "      border-bottom-color: var(--fill-color);\n",
              "    }\n",
              "  }\n",
              "</style>\n",
              "\n",
              "      <script>\n",
              "        async function quickchart(key) {\n",
              "          const quickchartButtonEl =\n",
              "            document.querySelector('#' + key + ' button');\n",
              "          quickchartButtonEl.disabled = true;  // To prevent multiple clicks.\n",
              "          quickchartButtonEl.classList.add('colab-df-spinner');\n",
              "          try {\n",
              "            const charts = await google.colab.kernel.invokeFunction(\n",
              "                'suggestCharts', [key], {});\n",
              "          } catch (error) {\n",
              "            console.error('Error during call to suggestCharts:', error);\n",
              "          }\n",
              "          quickchartButtonEl.classList.remove('colab-df-spinner');\n",
              "          quickchartButtonEl.classList.add('colab-df-quickchart-complete');\n",
              "        }\n",
              "        (() => {\n",
              "          let quickchartButtonEl =\n",
              "            document.querySelector('#df-1f883373-5fd6-49cf-83e9-02d1fc7502b9 button');\n",
              "          quickchartButtonEl.style.display =\n",
              "            google.colab.kernel.accessAllowed ? 'block' : 'none';\n",
              "        })();\n",
              "      </script>\n",
              "    </div>\n",
              "\n",
              "    </div>\n",
              "  </div>\n"
            ],
            "text/plain": [
              "       Chest Pain  Shortness of Breath  Irregular Heartbeat  \\\n",
              "69995           1                    0                    0   \n",
              "69996           0                    0                    0   \n",
              "69997           1                    1                    0   \n",
              "69998           0                    1                    1   \n",
              "69999           0                    1                    0   \n",
              "\n",
              "       Fatigue & Weakness  Dizziness  Swelling (Edema)  \\\n",
              "69995                   0          0                 0   \n",
              "69996                   1          0                 1   \n",
              "69997                   1          1                 1   \n",
              "69998                   1          1                 0   \n",
              "69999                   0          0                 0   \n",
              "\n",
              "       Pain in Neck/Jaw/Shoulder/Back  Excessive Sweating  Persistent Cough  \\\n",
              "69995                               0                   1                 0   \n",
              "69996                               0                   1                 0   \n",
              "69997                               0                   0                 0   \n",
              "69998                               0                   0                 0   \n",
              "69999                               0                   1                 1   \n",
              "\n",
              "       Nausea/Vomiting  High Blood Pressure  Chest Discomfort (Activity)  \\\n",
              "69995                1                    1                            1   \n",
              "69996                0                    0                            1   \n",
              "69997                0                    1                            0   \n",
              "69998                0                    0                            1   \n",
              "69999                1                    1                            1   \n",
              "\n",
              "       Cold Hands/Feet  Snoring/Sleep Apnea  Anxiety/Feeling of Doom  Age  \\\n",
              "69995                0                    0                        1   18   \n",
              "69996                1                    1                        0   24   \n",
              "69997                0                    0                        0   49   \n",
              "69998                1                    1                        0   45   \n",
              "69999                0                    1                        0   74   \n",
              "\n",
              "       Stroke Risk (%)  At Risk (Binary)  \n",
              "69995            30.00                 0  \n",
              "69996            33.00                 0  \n",
              "69997            45.50                 0  \n",
              "69998            48.50                 0  \n",
              "69999            63.00                 1  "
            ]
          },
          "execution_count": 5,
          "metadata": {},
          "output_type": "execute_result"
        }
      ],
      "source": [
        "df.tail()"
      ]
    },
    {
      "cell_type": "code",
      "execution_count": 6,
      "metadata": {
        "colab": {
          "base_uri": "https://localhost:8080/"
        },
        "id": "lSX6tHgUQvxH",
        "outputId": "25c47c22-67ec-48af-f88a-d6e250c64bd5"
      },
      "outputs": [
        {
          "name": "stdout",
          "output_type": "stream",
          "text": [
            "<class 'pandas.core.frame.DataFrame'>\n",
            "RangeIndex: 70000 entries, 0 to 69999\n",
            "Data columns (total 18 columns):\n",
            " #   Column                          Non-Null Count  Dtype  \n",
            "---  ------                          --------------  -----  \n",
            " 0   Chest Pain                      70000 non-null  int64  \n",
            " 1   Shortness of Breath             70000 non-null  int64  \n",
            " 2   Irregular Heartbeat             70000 non-null  int64  \n",
            " 3   Fatigue & Weakness              70000 non-null  int64  \n",
            " 4   Dizziness                       70000 non-null  int64  \n",
            " 5   Swelling (Edema)                70000 non-null  int64  \n",
            " 6   Pain in Neck/Jaw/Shoulder/Back  70000 non-null  int64  \n",
            " 7   Excessive Sweating              70000 non-null  int64  \n",
            " 8   Persistent Cough                70000 non-null  int64  \n",
            " 9   Nausea/Vomiting                 70000 non-null  int64  \n",
            " 10  High Blood Pressure             70000 non-null  int64  \n",
            " 11  Chest Discomfort (Activity)     70000 non-null  int64  \n",
            " 12  Cold Hands/Feet                 70000 non-null  int64  \n",
            " 13  Snoring/Sleep Apnea             70000 non-null  int64  \n",
            " 14  Anxiety/Feeling of Doom         70000 non-null  int64  \n",
            " 15  Age                             70000 non-null  int64  \n",
            " 16  Stroke Risk (%)                 70000 non-null  float64\n",
            " 17  At Risk (Binary)                70000 non-null  int64  \n",
            "dtypes: float64(1), int64(17)\n",
            "memory usage: 9.6 MB\n"
          ]
        }
      ],
      "source": [
        "df.info()"
      ]
    },
    {
      "cell_type": "code",
      "execution_count": 7,
      "metadata": {
        "colab": {
          "base_uri": "https://localhost:8080/"
        },
        "id": "8yB0O7uyooiN",
        "outputId": "7f8a87ce-eb78-4b70-92ef-d8331756d197"
      },
      "outputs": [
        {
          "data": {
            "text/plain": [
              "np.int64(1021)"
            ]
          },
          "execution_count": 7,
          "metadata": {},
          "output_type": "execute_result"
        }
      ],
      "source": [
        "df.duplicated().sum()"
      ]
    },
    {
      "cell_type": "markdown",
      "metadata": {
        "id": "szqFCSKGSWNF"
      },
      "source": [
        "Há um valor considerável de duplicatas, mas sua retirada ainda mantém o dataset com um grande valor de registros, portanto eles serão exluídos. Se fossem dados reais, poderia-se verificar na fonte dos dados se há algum identificador único a ser incluído na base apenas para certificar que não se tratam de duplicatas, para evitar a exclusão de dados válidos."
      ]
    },
    {
      "cell_type": "code",
      "execution_count": 8,
      "metadata": {
        "colab": {
          "base_uri": "https://localhost:8080/"
        },
        "id": "ciOOCFesqh1p",
        "outputId": "5131c129-b6c1-49d7-b959-b584df54f34c"
      },
      "outputs": [
        {
          "name": "stdout",
          "output_type": "stream",
          "text": [
            "Chest Pain: [0 1]\n",
            "Shortness of Breath: [1 0]\n",
            "Irregular Heartbeat: [1 0]\n",
            "Fatigue & Weakness: [1 0]\n",
            "Dizziness: [0 1]\n",
            "Swelling (Edema): [0 1]\n",
            "Pain in Neck/Jaw/Shoulder/Back: [0 1]\n",
            "Excessive Sweating: [1 0]\n",
            "Persistent Cough: [1 0]\n",
            "Nausea/Vomiting: [1 0]\n",
            "High Blood Pressure: [0 1]\n",
            "Chest Discomfort (Activity): [1 0]\n",
            "Cold Hands/Feet: [1 0]\n",
            "Snoring/Sleep Apnea: [0 1]\n",
            "Anxiety/Feeling of Doom: [0 1]\n",
            "Age: [54 49 62 48 61 34 74 47 20 79 87 83 23 64 81 43 40 26 45 63 78 19 77 66\n",
            " 41 76 27 29 31 50 86 38 69 89 67 24 56 35 55 25 46 82 36 32 84 51 60 37\n",
            " 68 30 80 21 57 44 70 18 39 90 88 53 28 22 71 33 75 85 52 42 73 59 58 72\n",
            " 65]\n",
            "Stroke Risk (%): [ 58.   40.5  52.   60.   56.5  43.   68.   54.5  31.   60.5  74.5  67.5\n",
            "  47.5  63.   76.5  52.5  66.   94.5  34.   58.5  62.5  45.   50.5  48.\n",
            "  69.   51.5  44.5  64.   77.5  69.5  79.   49.5  65.5  37.5  19.5  31.5\n",
            "  41.   59.   55.   20.5  70.5  55.5  46.5  62.   63.5  45.5  36.5  48.5\n",
            "  29.   35.5  33.5  71.5  32.5  44.   61.   56.   82.   28.5  46.   73.\n",
            "  47.   61.5  38.5  53.   34.5  70.   33.   76.   26.5  51.   59.5  40.\n",
            "  71.   86.   54.   80.5  50.   37.   68.5  53.5  75.5  79.5  39.   28.\n",
            "  57.   32.   30.   49.   89.5  81.5  73.5  29.5  78.   36.   35.   57.5\n",
            "  42.   90.   74.   38.   30.5  64.5  43.5  65.   27.5  80.   41.5  75.\n",
            "  83.   22.   87.5  42.5  81.   15.5  25.5  66.5  72.5  39.5  78.5  86.5\n",
            "  20.   72.   84.   21.5  77.   25.   83.5  27.   85.5  84.5  94.   67.\n",
            "  95.   26.   23.5  96.   91.   90.5  88.   24.5  82.5  91.5  24.   95.5\n",
            "  93.   17.   85.   21.   87.   16.   22.5 100.   92.   89.   93.5  23.\n",
            "  88.5  18.5  18.   98.5  15.   92.5  16.5  98.   97.5  10.5  99.5  12.\n",
            "  17.5  19.   96.5  99.   14.5  97.   13.   11.5  13.5  11.   14.    8.5\n",
            "  10.    9.    5. ]\n",
            "At Risk (Binary): [1 0]\n"
          ]
        }
      ],
      "source": [
        "for column_name in df.columns:\n",
        "  print(column_name + \":\", df[column_name].unique())"
      ]
    },
    {
      "cell_type": "markdown",
      "metadata": {
        "id": "x1481EgSQ2qg"
      },
      "source": [
        "Fora o acima mencionado a respeito das duplicatas, em uma visualização básica aparentemente está tudo certo com os dados. Na seção de ajustes, farei algumas transformações nos nomes das colunas e transformarei as colunas numéricas categóricas em categóricas com os textos preenchidos, para facilitar a visualização e entendimento das análises gráficas. Posteriormente, para etapas de machine learning, elas podem voltar a ser numéricas de modo simples."
      ]
    },
    {
      "cell_type": "markdown",
      "metadata": {
        "id": "9RQlz1BYQ9ub"
      },
      "source": [
        "### Ajustes"
      ]
    },
    {
      "cell_type": "markdown",
      "metadata": {
        "id": "O_b-qFRUb0gi"
      },
      "source": [
        "Removendo duplicatas:"
      ]
    },
    {
      "cell_type": "code",
      "execution_count": 9,
      "metadata": {
        "id": "kgc21hWQUHJw"
      },
      "outputs": [],
      "source": [
        "df.drop_duplicates(inplace=True)"
      ]
    },
    {
      "cell_type": "markdown",
      "metadata": {
        "id": "dFv9YjE5b22T"
      },
      "source": [
        "Escrevedo o nome das colunas de uma maneira mais simples:"
      ]
    },
    {
      "cell_type": "code",
      "execution_count": 10,
      "metadata": {
        "colab": {
          "base_uri": "https://localhost:8080/"
        },
        "id": "g8-eRfofRAjL",
        "outputId": "ca2f298d-8c16-4596-b420-a363b768683d"
      },
      "outputs": [
        {
          "data": {
            "text/plain": [
              "Index(['chest_pain', 'shortness_of_breath', 'irregular_heartbeat',\n",
              "       'fatigue_weakness', 'dizziness', 'swelling_edema',\n",
              "       'pain_in_neck_jaw_shoulder_back', 'excessive_sweating',\n",
              "       'persistent_cough', 'nausea_vomiting', 'high_blood_pressure',\n",
              "       'chest_discomfort_activity', 'cold_hands_feet', 'snoring_sleep_apnea',\n",
              "       'anxiety_feeling_of_doom', 'age', 'stroke_risk_%', 'at_risk_binary'],\n",
              "      dtype='object')"
            ]
          },
          "execution_count": 10,
          "metadata": {},
          "output_type": "execute_result"
        }
      ],
      "source": [
        "df.columns = [column_name.lower().replace(\" \", \"_\").replace(\"(\", \"\").replace(\")\", \"\").replace(\"/\", \"_\").replace(\"_&\", \"\") for column_name in df.columns]\n",
        "df.columns"
      ]
    },
    {
      "cell_type": "code",
      "execution_count": 11,
      "metadata": {
        "id": "MF2aU7iNZfvb"
      },
      "outputs": [],
      "source": [
        "df.rename(columns={\"stroke_risk_%\": \"stroke_risk\", \"at_risk_binary\": \"at_risk\"}, inplace=True)"
      ]
    },
    {
      "cell_type": "markdown",
      "metadata": {
        "id": "4pwXyueuc2uL"
      },
      "source": [
        "Ordenando as colunas para ordem alfabética apenas para facilitar encontrá-las nos gráficos durante a análise exploratória:"
      ]
    },
    {
      "cell_type": "code",
      "execution_count": 12,
      "metadata": {
        "colab": {
          "base_uri": "https://localhost:8080/"
        },
        "id": "vQND3DgmdBmZ",
        "outputId": "85bb5a06-d639-46f7-85d9-525c382d5853"
      },
      "outputs": [
        {
          "data": {
            "text/plain": [
              "Index(['age', 'anxiety_feeling_of_doom', 'at_risk',\n",
              "       'chest_discomfort_activity', 'chest_pain', 'cold_hands_feet',\n",
              "       'dizziness', 'excessive_sweating', 'fatigue_weakness',\n",
              "       'high_blood_pressure', 'irregular_heartbeat', 'nausea_vomiting',\n",
              "       'pain_in_neck_jaw_shoulder_back', 'persistent_cough',\n",
              "       'shortness_of_breath', 'snoring_sleep_apnea', 'stroke_risk',\n",
              "       'swelling_edema'],\n",
              "      dtype='object')"
            ]
          },
          "execution_count": 12,
          "metadata": {},
          "output_type": "execute_result"
        }
      ],
      "source": [
        "df = df.reindex(sorted(df.columns), axis=1)\n",
        "df.columns"
      ]
    },
    {
      "cell_type": "markdown",
      "metadata": {
        "id": "6e8ZDpeHb81G"
      },
      "source": [
        "Transformando valores numéricos das colunas categóricas binárias em \"Sim\" e \"Não\":"
      ]
    },
    {
      "cell_type": "code",
      "execution_count": 13,
      "metadata": {
        "id": "cCHyIYi9RaId"
      },
      "outputs": [],
      "source": [
        "binary_columns = [column for column in df.columns if column not in ([\"age\", \"stroke_risk\"])]\n",
        "\n",
        "for column in binary_columns:\n",
        "  df[column] = df[column].replace({1: \"Yes\", 0: \"No\"})"
      ]
    },
    {
      "cell_type": "markdown",
      "metadata": {
        "id": "x9_SCf-bcHsz"
      },
      "source": [
        "Alterando o tipo das colunas categóricas para \"category\" e diminuindo o espaço de armazenamento de inteiros da coluna \"age\":"
      ]
    },
    {
      "cell_type": "code",
      "execution_count": 14,
      "metadata": {
        "id": "qJwcRolmxjNG"
      },
      "outputs": [],
      "source": [
        "for column in binary_columns:\n",
        "  df[column] = df[column].astype(\"category\")"
      ]
    },
    {
      "cell_type": "code",
      "execution_count": 15,
      "metadata": {
        "id": "b_d2viPFxaHM"
      },
      "outputs": [],
      "source": [
        "df[\"age\"] = pd.to_numeric(df[\"age\"], downcast=\"integer\")"
      ]
    },
    {
      "cell_type": "code",
      "execution_count": 16,
      "metadata": {
        "colab": {
          "base_uri": "https://localhost:8080/"
        },
        "id": "wM_73Ft4xjLf",
        "outputId": "bff84555-38a8-4e01-fc35-afa7820e9903"
      },
      "outputs": [
        {
          "name": "stdout",
          "output_type": "stream",
          "text": [
            "<class 'pandas.core.frame.DataFrame'>\n",
            "Index: 68979 entries, 0 to 69999\n",
            "Data columns (total 18 columns):\n",
            " #   Column                          Non-Null Count  Dtype   \n",
            "---  ------                          --------------  -----   \n",
            " 0   age                             68979 non-null  int8    \n",
            " 1   anxiety_feeling_of_doom         68979 non-null  category\n",
            " 2   at_risk                         68979 non-null  category\n",
            " 3   chest_discomfort_activity       68979 non-null  category\n",
            " 4   chest_pain                      68979 non-null  category\n",
            " 5   cold_hands_feet                 68979 non-null  category\n",
            " 6   dizziness                       68979 non-null  category\n",
            " 7   excessive_sweating              68979 non-null  category\n",
            " 8   fatigue_weakness                68979 non-null  category\n",
            " 9   high_blood_pressure             68979 non-null  category\n",
            " 10  irregular_heartbeat             68979 non-null  category\n",
            " 11  nausea_vomiting                 68979 non-null  category\n",
            " 12  pain_in_neck_jaw_shoulder_back  68979 non-null  category\n",
            " 13  persistent_cough                68979 non-null  category\n",
            " 14  shortness_of_breath             68979 non-null  category\n",
            " 15  snoring_sleep_apnea             68979 non-null  category\n",
            " 16  stroke_risk                     68979 non-null  float64 \n",
            " 17  swelling_edema                  68979 non-null  category\n",
            "dtypes: category(16), float64(1), int8(1)\n",
            "memory usage: 2.2 MB\n"
          ]
        }
      ],
      "source": [
        "df.info()"
      ]
    },
    {
      "cell_type": "markdown",
      "metadata": {
        "id": "TDnwbTi6ce3e"
      },
      "source": [
        "Salvando os dados tratados para utilização posterior:"
      ]
    },
    {
      "cell_type": "code",
      "execution_count": 17,
      "metadata": {
        "id": "fRSlrDG_RZ_b"
      },
      "outputs": [],
      "source": [
        "df.to_parquet(DADOS_LIMPOS, index=False)"
      ]
    }
  ],
  "metadata": {
    "colab": {
      "provenance": []
    },
    "kernelspec": {
      "display_name": "Python 3",
      "name": "python3"
    },
    "language_info": {
      "name": "python"
    }
  },
  "nbformat": 4,
  "nbformat_minor": 0
}
